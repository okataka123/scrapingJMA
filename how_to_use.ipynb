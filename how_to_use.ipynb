{
 "cells": [
  {
   "cell_type": "code",
   "execution_count": null,
   "id": "2cb201df",
   "metadata": {},
   "outputs": [],
   "source": [
    "from scrapingJMA import *\n",
    "from plotly.subplots import make_subplots\n",
    "import plotly.graph_objects as go\n",
    "import matplotlib.pyplot as plt"
   ]
  },
  {
   "cell_type": "code",
   "execution_count": null,
   "id": "99669610",
   "metadata": {},
   "outputs": [],
   "source": [
    "loc_df = pd.read_csv('locationsTable.csv')\n",
    "display(loc_df)"
   ]
  },
  {
   "cell_type": "code",
   "execution_count": null,
   "id": "e147ebb1",
   "metadata": {
    "scrolled": false
   },
   "outputs": [],
   "source": [
    "df = JMAData('静岡県', '静岡', 2021, 6, 21, 2021, 7, 1).constructWeatherData()\n",
    "display(df)"
   ]
  },
  {
   "cell_type": "code",
   "execution_count": null,
   "id": "8867e2b1",
   "metadata": {},
   "outputs": [],
   "source": [
    "df = JMAData('神奈川県', '横浜', 2021, 7, 1, 2021, 7, 1).constructWeatherData()\n",
    "display(df)"
   ]
  },
  {
   "cell_type": "code",
   "execution_count": null,
   "id": "2753eda9",
   "metadata": {},
   "outputs": [],
   "source": [
    "fig = make_subplots()\n",
    "trace = go.Scatter(\n",
    "    x = df['時刻'],\n",
    "    y = df['気温(℃)'],\n",
    ")\n",
    "fig.add_trace(trace)\n",
    "fig.show()"
   ]
  },
  {
   "cell_type": "code",
   "execution_count": null,
   "id": "81c9715f",
   "metadata": {},
   "outputs": [],
   "source": [
    "fig, ax = plt.subplots(figsize=(30, 7))\n",
    "ax.plot(\n",
    "    df['時刻'],\n",
    "    df['気温(℃)'],\n",
    ")\n",
    "ax.grid()"
   ]
  },
  {
   "cell_type": "code",
   "execution_count": null,
   "id": "6483490c",
   "metadata": {},
   "outputs": [],
   "source": []
  }
 ],
 "metadata": {
  "kernelspec": {
   "display_name": "Python 3",
   "language": "python",
   "name": "python3"
  },
  "language_info": {
   "codemirror_mode": {
    "name": "ipython",
    "version": 3
   },
   "file_extension": ".py",
   "mimetype": "text/x-python",
   "name": "python",
   "nbconvert_exporter": "python",
   "pygments_lexer": "ipython3",
   "version": "3.7.9"
  }
 },
 "nbformat": 4,
 "nbformat_minor": 5
}
